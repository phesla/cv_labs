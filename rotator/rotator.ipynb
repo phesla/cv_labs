{
 "cells": [
  {
   "cell_type": "code",
   "execution_count": 110,
   "metadata": {},
   "outputs": [],
   "source": [
    "import cv2\n",
    "from math import pi, cos, sin, sqrt\n",
    "import time\n",
    "import meshcat\n",
    "from meshcat.geometry import Box\n",
    "import meshcat.transformations as tf\n",
    "import numpy as np"
   ]
  },
  {
   "cell_type": "code",
   "execution_count": 148,
   "metadata": {},
   "outputs": [
    {
     "name": "stdout",
     "output_type": "stream",
     "text": [
      "You can open the visualizer by visiting the following URL:\n",
      "http://127.0.0.1:7000/static/\n"
     ]
    }
   ],
   "source": [
    "vis = meshcat.Visualizer()"
   ]
  },
  {
   "cell_type": "code",
   "execution_count": 149,
   "metadata": {},
   "outputs": [],
   "source": [
    "vis['fig'].set_object(Box([0.5, 0.5, 0.5]))\n",
    "#vis['fig_t'].set_object(Box([0.5, 0.5, 0.5]))"
   ]
  },
  {
   "cell_type": "code",
   "execution_count": 150,
   "metadata": {},
   "outputs": [],
   "source": [
    "a, b, c = 0, 0, 0\n",
    "l, m, n = 1/sqrt(3), 1/sqrt(3), 1/sqrt(3)\n",
    "phi = 2*pi\n",
    "\n",
    "def cat_mats(*mats):\n",
    "    A = mats[0]\n",
    "    for mat in mats[1:]:\n",
    "        A = np.dot(A, mat)\n",
    "    return A\n",
    "\n",
    "def calc_A(phi):\n",
    "    A1 = np.array([\n",
    "    [1, 0, 0, -a],\n",
    "    [0, 1, 0, -b],\n",
    "    [0, 0, 1, -c],\n",
    "    [0, 0, 0,  1]\n",
    "    ], dtype=np.float64)\n",
    "    \n",
    "    A2 = np.array([\n",
    "        [l, m, n, 0],\n",
    "        [0, -n, m, 0],\n",
    "        [m**2 + n**2, -m*l, -n*l, 0],\n",
    "        [0, 0, 0, 1]\n",
    "    ], dtype=np.float64)\n",
    "    \n",
    "    A3 = np.array([\n",
    "        [1, 0, 0, 0],\n",
    "        [0, cos(phi), -sin(phi), 0],\n",
    "        [0, sin(phi), cos(phi), 0],\n",
    "        [0, 0, 0, 1]\n",
    "    ], dtype=np.float64)\n",
    "    \n",
    "    A4 = np.linalg.inv(A2)\n",
    "    \n",
    "    A5 = np.array([\n",
    "        [1, 0, 0, a],\n",
    "        [0, 1, 0, b],\n",
    "        [0, 0, 1, c],\n",
    "        [0, 0, 0, 1]\n",
    "    ], dtype=np.float64)\n",
    "    \n",
    "    A = cat_mats(A5, A4)#, A3, A2, A1)\n",
    "    \n",
    "    return A"
   ]
  },
  {
   "cell_type": "code",
   "execution_count": 151,
   "metadata": {},
   "outputs": [
    {
     "data": {
      "text/plain": [
       "array([0.        , 1.57079633, 3.14159265, 4.71238898, 6.28318531])"
      ]
     },
     "execution_count": 151,
     "metadata": {},
     "output_type": "execute_result"
    }
   ],
   "source": [
    " np.linspace(0, phi, 5)"
   ]
  },
  {
   "cell_type": "code",
   "execution_count": 152,
   "metadata": {},
   "outputs": [
    {
     "data": {
      "text/plain": [
       "array([[-0.16610179, -0.96548619, -0.2006156 ,  0.        ],\n",
       "       [-0.2006156 , -0.16610179,  0.96548619,  0.        ],\n",
       "       [-0.96548619,  0.2006156 , -0.16610179,  0.        ],\n",
       "       [ 0.        ,  0.        ,  0.        ,  1.        ]])"
      ]
     },
     "execution_count": 152,
     "metadata": {},
     "output_type": "execute_result"
    }
   ],
   "source": [
    "tf.rotation_matrix(theta, [-1, 1, 1], [a, b, c])"
   ]
  },
  {
   "cell_type": "code",
   "execution_count": 153,
   "metadata": {},
   "outputs": [
    {
     "ename": "KeyboardInterrupt",
     "evalue": "",
     "output_type": "error",
     "traceback": [
      "\u001b[0;31m---------------------------------------------------------------------------\u001b[0m",
      "\u001b[0;31mKeyboardInterrupt\u001b[0m                         Traceback (most recent call last)",
      "\u001b[0;32m<ipython-input-153-9b6270873674>\u001b[0m in \u001b[0;36m<module>\u001b[0;34m\u001b[0m\n\u001b[1;32m      3\u001b[0m         \u001b[0;31m#vis['fig_t'].set_transform(tf.rotation_matrix(theta, [-1, 1, 1], [a, b, c]))\u001b[0m\u001b[0;34m\u001b[0m\u001b[0;34m\u001b[0m\u001b[0;34m\u001b[0m\u001b[0m\n\u001b[1;32m      4\u001b[0m         \u001b[0mvis\u001b[0m\u001b[0;34m[\u001b[0m\u001b[0;34m'fig'\u001b[0m\u001b[0;34m]\u001b[0m\u001b[0;34m.\u001b[0m\u001b[0mset_transform\u001b[0m\u001b[0;34m(\u001b[0m\u001b[0mcalc_A\u001b[0m\u001b[0;34m(\u001b[0m\u001b[0mtheta\u001b[0m\u001b[0;34m)\u001b[0m\u001b[0;34m)\u001b[0m\u001b[0;34m\u001b[0m\u001b[0;34m\u001b[0m\u001b[0m\n\u001b[0;32m----> 5\u001b[0;31m         \u001b[0mtime\u001b[0m\u001b[0;34m.\u001b[0m\u001b[0msleep\u001b[0m\u001b[0;34m(\u001b[0m\u001b[0;36m0.01\u001b[0m\u001b[0;34m)\u001b[0m\u001b[0;34m\u001b[0m\u001b[0;34m\u001b[0m\u001b[0m\n\u001b[0m\u001b[1;32m      6\u001b[0m \u001b[0;34m\u001b[0m\u001b[0m\n",
      "\u001b[0;31mKeyboardInterrupt\u001b[0m: "
     ]
    }
   ],
   "source": [
    "\n",
    "\n",
    "while True:\n",
    "    for theta in np.linspace(0, phi, 500):\n",
    "        #vis['fig_t'].set_transform(tf.rotation_matrix(theta, [-1, 1, 1], [a, b, c]))\n",
    "        vis['fig'].set_transform(calc_A(theta))\n",
    "        time.sleep(0.01)\n",
    "\n"
   ]
  },
  {
   "cell_type": "code",
   "execution_count": null,
   "metadata": {},
   "outputs": [],
   "source": [
    "A2 = np.array([\n",
    "        [l, m, n, 0],\n",
    "        [0, -n, m, 0],\n",
    "        [m**2 + n**2, -m*l, -n*l, 0],\n",
    "        [0, 0, 0, 1]\n",
    "    ], dtype=np.float64)"
   ]
  },
  {
   "cell_type": "code",
   "execution_count": 101,
   "metadata": {},
   "outputs": [
    {
     "data": {
      "text/plain": [
       "array([[ 0.57735027,  0.57735027,  0.57735027,  0.        ],\n",
       "       [ 0.        , -0.57735027,  0.57735027,  0.        ],\n",
       "       [ 0.66666667, -0.33333333, -0.33333333,  0.        ],\n",
       "       [ 0.        ,  0.        ,  0.        ,  1.        ]])"
      ]
     },
     "execution_count": 101,
     "metadata": {},
     "output_type": "execute_result"
    }
   ],
   "source": [
    "A2"
   ]
  },
  {
   "cell_type": "code",
   "execution_count": 102,
   "metadata": {},
   "outputs": [
    {
     "data": {
      "text/plain": [
       "array([[ 5.77350269e-01,  8.32667268e-17,  1.00000000e+00,\n",
       "         0.00000000e+00],\n",
       "       [ 5.77350269e-01, -8.66025404e-01, -5.00000000e-01,\n",
       "         0.00000000e+00],\n",
       "       [ 5.77350269e-01,  8.66025404e-01, -5.00000000e-01,\n",
       "         0.00000000e+00],\n",
       "       [ 0.00000000e+00,  0.00000000e+00,  0.00000000e+00,\n",
       "         1.00000000e+00]])"
      ]
     },
     "execution_count": 102,
     "metadata": {},
     "output_type": "execute_result"
    }
   ],
   "source": [
    "np.linalg.inv(A2)"
   ]
  },
  {
   "cell_type": "code",
   "execution_count": 29,
   "metadata": {},
   "outputs": [],
   "source": [
    "a = np.array([[1, 0, 0, 1],\n",
    "              [0, 1, 0, 5],\n",
    "              [0, 0, 1, 5],\n",
    "              [0, 0, 0, 1]\n",
    "             ])"
   ]
  },
  {
   "cell_type": "code",
   "execution_count": 34,
   "metadata": {},
   "outputs": [],
   "source": [
    "b = np.array([[0],\n",
    "              [0],\n",
    "              [0],\n",
    "              [1]\n",
    "             ])"
   ]
  },
  {
   "cell_type": "code",
   "execution_count": 33,
   "metadata": {},
   "outputs": [
    {
     "data": {
      "text/plain": [
       "array([[1],\n",
       "       [5],\n",
       "       [5],\n",
       "       [1]])"
      ]
     },
     "execution_count": 33,
     "metadata": {},
     "output_type": "execute_result"
    }
   ],
   "source": [
    "np.dot(a, b)"
   ]
  },
  {
   "cell_type": "code",
   "execution_count": 154,
   "metadata": {},
   "outputs": [],
   "source": [
    "lons = [i for i in range(361)]\n",
    "lats = [90 - i for i in range(181)]\n",
    "levels = [\n",
    "    50.0, 137.5, 212.5, 287.5, 362.5, 462.5, 587.5, 700.0, 800.0, 925.0,\n",
    "    1075.0, 1225.0, 1375.0, 1525.0, 1675.0, 1825.0, 1975.0, 2125.0,\n",
    "    2275.0, 2425.0, 2575.0, 2770.0\n",
    "]"
   ]
  },
  {
   "cell_type": "code",
   "execution_count": null,
   "metadata": {},
   "outputs": [],
   "source": [
    "lons.index()"
   ]
  }
 ],
 "metadata": {
  "kernelspec": {
   "display_name": "Python 3",
   "language": "python",
   "name": "python3"
  },
  "language_info": {
   "codemirror_mode": {
    "name": "ipython",
    "version": 3
   },
   "file_extension": ".py",
   "mimetype": "text/x-python",
   "name": "python",
   "nbconvert_exporter": "python",
   "pygments_lexer": "ipython3",
   "version": "3.6.8"
  }
 },
 "nbformat": 4,
 "nbformat_minor": 2
}
