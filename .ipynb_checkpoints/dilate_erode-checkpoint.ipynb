{
 "cells": [
  {
   "cell_type": "code",
   "execution_count": 212,
   "metadata": {},
   "outputs": [],
   "source": [
    "import numpy as np\n",
    "import cv2\n",
    "import matplotlib.pyplot as plt"
   ]
  },
  {
   "cell_type": "code",
   "execution_count": 312,
   "metadata": {},
   "outputs": [],
   "source": [
    "class MorphologyMethods:\n",
    "    \n",
    "    def __init__(self):\n",
    "        pass\n",
    "    \n",
    "    @staticmethod\n",
    "    def erode(img:np.ndarray, kernel:np.ndarray) -> np.ndarray:\n",
    "        \n",
    "        '''\n",
    "        Apply erosion operation to the binary image array.\n",
    "        \n",
    "        Parameters\n",
    "        ----------\n",
    "        img : np.ndarray\n",
    "            Binary image array with shape (height, width).\n",
    "        kernel : np.ndarray\n",
    "            Kernel array with shape (height, width): height and width >= 3.\n",
    "        \n",
    "        Returns\n",
    "        -------\n",
    "        result : np.ndarray\n",
    "            Eroded image array with the same shape as original image.\n",
    "        '''\n",
    "        \n",
    "        h, w = img.shape\n",
    "        kernel_h, kernel_w = kernel.shape\n",
    "        kernel_shift_h = kernel.shape[0] // 2\n",
    "        kernel_shift_w = kernel.shape[1] // 2\n",
    "        \n",
    "        result = np.zeros((h + 2 * kernel_shift_h, w + 2 * kernel_shift_w)).astype(np.uint8)\n",
    "        unsquezed_img = np.zeros((h + 2 * kernel_shift_h, w + 2 * kernel_shift_w)).astype(np.uint8)\n",
    "        unsquezed_img[kernel_shift_h:kernel_shift_h + h, kernel_shift_w:kernel_shift_w + w] = img\n",
    "        \n",
    "        for i in np.arange(img.shape[0]):\n",
    "            for j in np.arange(img.shape[1]):\n",
    "                \n",
    "                unsquezed_i = i + kernel_shift_h\n",
    "                unsquezed_j = j + kernel_shift_w\n",
    "                \n",
    "                img_element = unsquezed_img[unsquezed_i - kernel_shift_h:unsquezed_i + kernel_shift_h + 1,\n",
    "                                            unsquezed_j - kernel_shift_w:unsquezed_j + kernel_shift_w + 1]\n",
    "                \n",
    "                if np.array_equal(img_element, kernel):\n",
    "                    result[i + kernel_shift_h, j + kernel_shift_w] = img[i, j] | kernel[kernel_shift_h,\n",
    "                                                                                        kernel_shift_w]\n",
    "                    \n",
    "        return result[kernel_shift_h:kernel_shift_h + h, kernel_shift_w:kernel_shift_w + w]\n",
    "                \n",
    "                \n",
    "    \n",
    "    @staticmethod\n",
    "    def dilate(img:np.ndarray, kernel:np.ndarray) -> np.ndarray:\n",
    "        '''\n",
    "        Apply dilation operation to the binary image array.\n",
    "        \n",
    "        Parameters\n",
    "        ----------\n",
    "        img : np.ndarray\n",
    "            Binary image array with shape (height, width).\n",
    "        kernel : np.ndarray\n",
    "            Kernel array with shape (height, width): height and width >= 3.\n",
    "        Returns\n",
    "        -------\n",
    "        result : np.ndarray\n",
    "            Dilated image array with the same shape as original image.\n",
    "        '''\n",
    "        \n",
    "        h, w = img.shape\n",
    "        kernel_h, kernel_w = kernel.shape\n",
    "        kernel_shift_h = kernel.shape[0] // 2\n",
    "        kernel_shift_w = kernel.shape[1] // 2\n",
    "        \n",
    "        result = np.zeros((h + 2 * kernel_shift_h, w + 2 * kernel_shift_w)).astype(np.uint8)\n",
    "        unsquezed_img = np.zeros((h + 2 * kernel_shift_h, w + 2 * kernel_shift_w)).astype(np.uint8)\n",
    "        unsquezed_img[kernel_shift_h:kernel_shift_h + h, kernel_shift_w:kernel_shift_w + w] = img\n",
    "        \n",
    "        for i in np.arange(img.shape[0]):\n",
    "            for j in np.arange(img.shape[1]):\n",
    "                \n",
    "                unsquezed_i = i + kernel_shift_h\n",
    "                unsquezed_j = j + kernel_shift_w\n",
    "                \n",
    "                if img[i, j]:\n",
    "                    result[unsquezed_i - kernel_shift_h:unsquezed_i + kernel_shift_h + 1,\n",
    "                           unsquezed_j - kernel_shift_w:unsquezed_j + kernel_shift_w + 1\n",
    "                          ] = unsquezed_img[unsquezed_i - kernel_shift_h:unsquezed_i + kernel_shift_h + 1,\n",
    "                                            unsquezed_j - kernel_shift_w:unsquezed_j + kernel_shift_w + 1] | kernel\n",
    "        \n",
    "        return result[kernel_shift_h:kernel_shift_h + h, kernel_shift_w:kernel_shift_w + w]"
   ]
  },
  {
   "cell_type": "code",
   "execution_count": 303,
   "metadata": {},
   "outputs": [],
   "source": [
    "img = np.zeros((5, 5)).astype(np.uint8)\n",
    "#img[0, 0] = 1#np.ones((1, 1), dtype=np.uint8)\n",
    "#img[1:4, 1:4] = np.ones((3, 3), dtype=np.uint8)\n",
    "#img[:, :] = np.ones((5, 5), dtype=np.uint8)\n",
    "kernel = np.ones((3, 1)).astype(np.uint8)"
   ]
  },
  {
   "cell_type": "code",
   "execution_count": null,
   "metadata": {},
   "outputs": [],
   "source": []
  },
  {
   "cell_type": "code",
   "execution_count": 304,
   "metadata": {},
   "outputs": [],
   "source": [
    "img[4, 4] = 1"
   ]
  },
  {
   "cell_type": "code",
   "execution_count": 305,
   "metadata": {},
   "outputs": [
    {
     "data": {
      "text/plain": [
       "<matplotlib.image.AxesImage at 0x7f198165aeb8>"
      ]
     },
     "execution_count": 305,
     "metadata": {},
     "output_type": "execute_result"
    },
    {
     "data": {
      "image/png": "[encoded data removed]",
      "text/plain": [
       "<Figure size 432x288 with 1 Axes>"
      ]
     },
     "metadata": {
      "needs_background": "light"
     },
     "output_type": "display_data"
    }
   ],
   "source": [
    "plt.imshow(img)"
   ]
  },
  {
   "cell_type": "code",
   "execution_count": 306,
   "metadata": {},
   "outputs": [],
   "source": [
    "erode_img = cv2.dilate(img, kernel, borderValue=0)"
   ]
  },
  {
   "cell_type": "code",
   "execution_count": 307,
   "metadata": {},
   "outputs": [
    {
     "data": {
      "text/plain": [
       "<matplotlib.image.AxesImage at 0x7f19815b37f0>"
      ]
     },
     "execution_count": 307,
     "metadata": {},
     "output_type": "execute_result"
    },
    {
     "data": {
      "image/png": "[encoded data removed]",
      "text/plain": [
       "<Figure size 432x288 with 1 Axes>"
      ]
     },
     "metadata": {
      "needs_background": "light"
     },
     "output_type": "display_data"
    }
   ],
   "source": [
    "plt.imshow(erode_img)"
   ]
  },
  {
   "cell_type": "code",
   "execution_count": 308,
   "metadata": {},
   "outputs": [
    {
     "data": {
      "text/plain": [
       "array([[0, 0, 0, 0, 0],\n",
       "       [0, 0, 0, 0, 0],\n",
       "       [0, 0, 0, 0, 0],\n",
       "       [0, 0, 0, 1, 1],\n",
       "       [0, 0, 0, 1, 1]], dtype=uint8)"
      ]
     },
     "execution_count": 308,
     "metadata": {},
     "output_type": "execute_result"
    }
   ],
   "source": [
    "erode_img"
   ]
  },
  {
   "cell_type": "code",
   "execution_count": 309,
   "metadata": {},
   "outputs": [],
   "source": [
    "morph = MorphologyMethods()"
   ]
  },
  {
   "cell_type": "code",
   "execution_count": 310,
   "metadata": {},
   "outputs": [],
   "source": [
    "result = morph.dilate(img, kernel)"
   ]
  },
  {
   "cell_type": "code",
   "execution_count": 311,
   "metadata": {},
   "outputs": [
    {
     "data": {
      "text/plain": [
       "<matplotlib.image.AxesImage at 0x7f19815911d0>"
      ]
     },
     "execution_count": 311,
     "metadata": {},
     "output_type": "execute_result"
    },
    {
     "data": {
      "image/png": "[encoded data removed]",
      "text/plain": [
       "<Figure size 432x288 with 1 Axes>"
      ]
     },
     "metadata": {
      "needs_background": "light"
     },
     "output_type": "display_data"
    }
   ],
   "source": [
    "plt.imshow(result)"
   ]
  },
  {
   "cell_type": "code",
   "execution_count": 281,
   "metadata": {},
   "outputs": [
    {
     "data": {
      "text/plain": [
       "array([[1, 1, 1, 1, 1],\n",
       "       [1, 1, 1, 1, 1],\n",
       "       [1, 1, 1, 1, 1],\n",
       "       [1, 1, 1, 1, 1],\n",
       "       [1, 1, 1, 1, 1]], dtype=uint8)"
      ]
     },
     "execution_count": 281,
     "metadata": {},
     "output_type": "execute_result"
    }
   ],
   "source": [
    "result"
   ]
  },
  {
   "cell_type": "code",
   "execution_count": 12,
   "metadata": {},
   "outputs": [
    {
     "data": {
      "text/plain": [
       "False"
      ]
     },
     "execution_count": 12,
     "metadata": {},
     "output_type": "execute_result"
    }
   ],
   "source": [
    "np.array_equal(np.array([0, 2]), np.array([1, 2]))"
   ]
  },
  {
   "cell_type": "code",
   "execution_count": 73,
   "metadata": {},
   "outputs": [
    {
     "ename": "TypeError",
     "evalue": "ufunc 'bitwise_or' not supported for the input types, and the inputs could not be safely coerced to any supported types according to the casting rule ''safe''",
     "output_type": "error",
     "traceback": [
      "\u001b[0;31m---------------------------------------------------------------------------\u001b[0m",
      "\u001b[0;31mTypeError\u001b[0m                                 Traceback (most recent call last)",
      "\u001b[0;32m<ipython-input-73-25151dd30eaf>\u001b[0m in \u001b[0;36m<module>\u001b[0;34m\u001b[0m\n\u001b[0;32m----> 1\u001b[0;31m \u001b[0mnp\u001b[0m\u001b[0;34m.\u001b[0m\u001b[0marray\u001b[0m\u001b[0;34m(\u001b[0m\u001b[0;34m[\u001b[0m\u001b[0;36m1.\u001b[0m\u001b[0;34m,\u001b[0m \u001b[0;36m0.\u001b[0m\u001b[0;34m]\u001b[0m\u001b[0;34m)\u001b[0m \u001b[0;34m|\u001b[0m \u001b[0mnp\u001b[0m\u001b[0;34m.\u001b[0m\u001b[0marray\u001b[0m\u001b[0;34m(\u001b[0m\u001b[0;34m[\u001b[0m\u001b[0;36m0.\u001b[0m\u001b[0;34m,\u001b[0m \u001b[0;36m1.\u001b[0m\u001b[0;34m]\u001b[0m\u001b[0;34m)\u001b[0m\u001b[0;34m\u001b[0m\u001b[0;34m\u001b[0m\u001b[0m\n\u001b[0m",
      "\u001b[0;31mTypeError\u001b[0m: ufunc 'bitwise_or' not supported for the input types, and the inputs could not be safely coerced to any supported types according to the casting rule ''safe''"
     ]
    }
   ],
   "source": [
    "np.array([1., 0.]) | np.array([0., 1.])"
   ]
  },
  {
   "cell_type": "code",
   "execution_count": null,
   "metadata": {},
   "outputs": [],
   "source": []
  }
 ],
 "metadata": {
  "kernelspec": {
   "display_name": "Python 3",
   "language": "python",
   "name": "python3"
  },
  "language_info": {
   "codemirror_mode": {
    "name": "ipython",
    "version": 3
   },
   "file_extension": ".py",
   "mimetype": "text/x-python",
   "name": "python",
   "nbconvert_exporter": "python",
   "pygments_lexer": "ipython3",
   "version": "3.6.8"
  }
 },
 "nbformat": 4,
 "nbformat_minor": 2
}
